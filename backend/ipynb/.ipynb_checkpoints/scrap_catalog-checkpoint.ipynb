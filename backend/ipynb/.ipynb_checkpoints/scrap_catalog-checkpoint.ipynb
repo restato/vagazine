{
 "cells": [
  {
   "cell_type": "code",
   "execution_count": 34,
   "id": "7fe4feb2-521d-40cd-bb62-55d0a1e2e9a8",
   "metadata": {},
   "outputs": [],
   "source": [
    "url = 'https://search.shopping.naver.com/catalog/22766289732?cat_id=50000216&frm=NVSCPRO&query=%EB%8F%84%EB%A7%88&NaPm=ct%3Dkxlhzpcw%7Cci%3D582e1a74c939ca66a4c834f93da443380d27eb19%7Ctr%3Dsls%7Csn%3D95694%7Chk%3D0ef0a2f686bd4f745dac9cf8a3896e6eae550a46'"
   ]
  },
  {
   "cell_type": "code",
   "execution_count": 35,
   "id": "4b8c1aba-cda4-46c9-9759-bc62d1576687",
   "metadata": {},
   "outputs": [
    {
     "name": "stdout",
     "output_type": "stream",
     "text": [
      "https://search.shopping.naver.com/catalog/22766289732?cat_id=50000216&frm=NVSCPRO&query=%EB%8F%84%EB%A7%88&NaPm=ct%3Dkxlhzpcw%7Cci%3D582e1a74c939ca66a4c834f93da443380d27eb19%7Ctr%3Dsls%7Csn%3D95694%7Chk%3D0ef0a2f686bd4f745dac9cf8a3896e6eae550a46\n"
     ]
    }
   ],
   "source": [
    "print(url)"
   ]
  },
  {
   "cell_type": "code",
   "execution_count": 36,
   "id": "547b465d-ab6c-431d-bb37-acc95edabed1",
   "metadata": {},
   "outputs": [],
   "source": [
    "import requests\n",
    "from bs4 import BeautifulSoup\n",
    "import urllib.request\n",
    "\n",
    "headers = {\"User-Agent\":\"Mozilla/5.0 (Windows NT 10.0; Win64; x64) AppleWebKit/537.36 (KHTML, like Gecko) Chrome/90.0.4430.93 Safari/537.36\"}\n",
    "response = requests.get(url, headers=headers)\n",
    "response.raise_for_status()"
   ]
  },
  {
   "cell_type": "code",
   "execution_count": 39,
   "id": "5db61e5d-f6c2-4aa4-94d1-0117cd94b929",
   "metadata": {},
   "outputs": [],
   "source": [
    "soup = BeautifulSoup(response.content, 'html.parser')"
   ]
  },
  {
   "cell_type": "code",
   "execution_count": 45,
   "id": "2903cec7-69b4-4798-845a-d8e2dc5c497d",
   "metadata": {},
   "outputs": [
    {
     "data": {
      "text/plain": [
       "'https://shopping-phinf.pstatic.net/main_2276628/22766289732.20210615105435.jpg?type=f640'"
      ]
     },
     "execution_count": 45,
     "metadata": {},
     "output_type": "execute_result"
    }
   ],
   "source": [
    "# image_url\n",
    "soup.find(\"div\", class_=\"image_thumb__20xyr\").find(\"img\").get('src')"
   ]
  },
  {
   "cell_type": "code",
   "execution_count": 57,
   "id": "4d3789c0-5871-426f-95f4-6b75b4461466",
   "metadata": {},
   "outputs": [
    {
     "data": {
      "text/plain": [
       "'28,870원'"
      ]
     },
     "execution_count": 57,
     "metadata": {},
     "output_type": "execute_result"
    }
   ],
   "source": [
    "# price\n",
    "soup.find(\"div\", class_=\"lowestPrice_low_price__fByaG\").find(\"em\").text + \"원\""
   ]
  },
  {
   "cell_type": "code",
   "execution_count": 56,
   "id": "7abedcfa-8da7-49c4-ac3d-6efc101d7f4f",
   "metadata": {},
   "outputs": [
    {
     "data": {
      "text/plain": [
       "'마리슈타이거 양면 스테인레스 도마'"
      ]
     },
     "execution_count": 56,
     "metadata": {},
     "output_type": "execute_result"
    }
   ],
   "source": [
    "# title\n",
    "soup.find(\"div\", class_=\"top_summary_title__15yAr\").find(\"h2\").text"
   ]
  },
  {
   "cell_type": "code",
   "execution_count": null,
   "id": "14d31fae-5956-412b-b118-e0b5e10a3b80",
   "metadata": {},
   "outputs": [],
   "source": []
  }
 ],
 "metadata": {
  "kernelspec": {
   "display_name": "Python 3 (ipykernel)",
   "language": "python",
   "name": "python3"
  },
  "language_info": {
   "codemirror_mode": {
    "name": "ipython",
    "version": 3
   },
   "file_extension": ".py",
   "mimetype": "text/x-python",
   "name": "python",
   "nbconvert_exporter": "python",
   "pygments_lexer": "ipython3",
   "version": "3.8.10"
  }
 },
 "nbformat": 4,
 "nbformat_minor": 5
}
