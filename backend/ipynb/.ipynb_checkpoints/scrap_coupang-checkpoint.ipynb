{
 "cells": [
  {
   "cell_type": "markdown",
   "id": "f759207d-510b-4336-bc74-388e61617518",
   "metadata": {},
   "source": [
    "### 쿠팡\n",
    "\n",
    "input | output\n",
    "--- | ----\n",
    "리워드 공유 URL | 상품명, 상품이미지, 가격  "
   ]
  },
  {
   "cell_type": "code",
   "execution_count": 60,
   "id": "5c5161a4-375a-4b3e-863e-48ebc35ebdc8",
   "metadata": {},
   "outputs": [],
   "source": [
    "url = 'https://www.coupang.com/vp/products/6155608481?itemId=11913018153&vendorItemId=79185917341&q=%EB%B2%A0%EC%9D%B4%EB%B9%84%EB%AC%B4%EB%B8%8C&itemsCount=36&searchId=82308221227c45c48e2a2194c3e53ab1&rank=1&isAddedCart='"
   ]
  },
  {
   "cell_type": "code",
   "execution_count": 61,
   "id": "06fd7098-b2bf-41d3-96c1-bd6eeaa6cb78",
   "metadata": {},
   "outputs": [],
   "source": [
    "import requests\n",
    "from bs4 import BeautifulSoup\n",
    "import urllib.request\n",
    "\n",
    "headers = {\"User-Agent\":\"Mozilla/5.0 (Windows NT 10.0; Win64; x64) AppleWebKit/537.36 (KHTML, like Gecko) Chrome/90.0.4430.93 Safari/537.36\"}\n",
    "response = requests.get(url, headers=headers)\n",
    "response.raise_for_status()"
   ]
  },
  {
   "cell_type": "code",
   "execution_count": 62,
   "id": "faf69907-cfd0-493e-9628-b6bbe0fd9e6b",
   "metadata": {},
   "outputs": [],
   "source": [
    "soup = BeautifulSoup(response.content, 'html.parser')"
   ]
  },
  {
   "cell_type": "code",
   "execution_count": 63,
   "id": "73ed66c1-1b37-40f8-b4ce-d602f828f6c7",
   "metadata": {},
   "outputs": [
    {
     "data": {
      "text/plain": [
       "'http://thumbnail9.coupangcdn.com/thumbnails/remote/230x230ex/image/vendor_inventory/8645/70d270a667dd13942b135fc2bc10d66a7327c06b7eb6115ef54fa272f56a.jpg'"
      ]
     },
     "execution_count": 63,
     "metadata": {},
     "output_type": "execute_result"
    }
   ],
   "source": [
    "# image_url\n",
    "f'http:{soup.find(\"img\", class_=\"prod-image__detail\").get(\"src\")}'"
   ]
  },
  {
   "cell_type": "code",
   "execution_count": 64,
   "id": "fd98e984-4755-4f7e-aaee-4c33e3f93ea2",
   "metadata": {},
   "outputs": [
    {
     "data": {
      "text/plain": [
       "'베이비무브 이유식마스터기 쿡마스터플러스 이유식찜기 이유식믹서'"
      ]
     },
     "execution_count": 64,
     "metadata": {},
     "output_type": "execute_result"
    }
   ],
   "source": [
    "# title\n",
    "soup.find(\"h2\", class_=\"prod-buy-header__title\").text"
   ]
  },
  {
   "cell_type": "code",
   "execution_count": 65,
   "id": "8b563761-1a4a-49e4-b5c4-0cbeea90251a",
   "metadata": {},
   "outputs": [
    {
     "data": {
      "text/plain": [
       "'229,000원'"
      ]
     },
     "execution_count": 65,
     "metadata": {},
     "output_type": "execute_result"
    }
   ],
   "source": [
    "# price\n",
    "soup.find(\"div\", class_=\"prod-origin-price\").find(\"span\", class_=\"origin-price\").text"
   ]
  },
  {
   "cell_type": "code",
   "execution_count": 66,
   "id": "eefeb50e-5c76-4bf5-b563-ab298a4f12a7",
   "metadata": {},
   "outputs": [
    {
     "data": {
      "text/plain": [
       "<div class=\"prod-sale-price prod-major-price\">\n",
       "<span class=\"total-price\">\n",
       "<strong>219,000<span class=\"price-unit\">원</span></strong>\n",
       "</span>\n",
       "<span class=\"unit-price\"></span>\n",
       "<div class=\"price-badge-list\">\n",
       "<table class=\"badge-table\">\n",
       "<tr class=\"BADGE_DISPLAY_0\">\n",
       "<td class=\"td-delivery-badge\">\n",
       "<img class=\"delivery-badge-img\" src=\"//image10.coupangcdn.com/image/delivery_badge/default/ios/rocket_merchant/consignment_v3@2x.png\"/>\n",
       "</td>\n",
       "<td class=\"td-icon\">\n",
       "<!-- ROCKET_MERCHANT can be both rocketWow or normal rocket, so, judge it first -->\n",
       "<span class=\"rocket-merchant-badge question-mark-rocket-plus\"></span>\n",
       "</td>\n",
       "</tr>\n",
       "</table>\n",
       "</div>\n",
       "<div class=\"prod-pre-order-msg\" style=\"display: none\">\n",
       "<span class=\"prod-pre-order-msg-info\">사전예약 상품</span>\n",
       "<div class=\"question-mark-rocket-plus\"></div>\n",
       "<div class=\"question-mark-pre-order-popup\" style=\"display: none;\">\n",
       "<span class=\"question-mark-pre-order-popup__info\">\n",
       "                사전예약 상품은 예약 구매 후 도착<br/>\n",
       "                예정일에 수령하는 상품입니다.\n",
       "            </span>\n",
       "<span class=\"question-mark-pre-order-popup-close-btn\"></span>\n",
       "</div>\n",
       "</div>\n",
       "</div>"
      ]
     },
     "execution_count": 66,
     "metadata": {},
     "output_type": "execute_result"
    }
   ],
   "source": [
    "soup.find(\"div\", class_=\"prod-sale-price\")"
   ]
  },
  {
   "cell_type": "code",
   "execution_count": 67,
   "id": "b2a98763-d8f8-49bc-b4a6-c6a57d8b46d5",
   "metadata": {},
   "outputs": [
    {
     "data": {
      "text/plain": [
       "'219,000원'"
      ]
     },
     "execution_count": 67,
     "metadata": {},
     "output_type": "execute_result"
    }
   ],
   "source": [
    "# #contents > div.prod-atf > div > div.prod-buy.new-oos-style.loyalty-member.eligible-address.without-subscribe-buy-type.DISPLAY_0.only-one-delivery > div.prod-price-container > div.prod-price > div > div.prod-sale-price.prod-major-price > span.total-price\n",
    "# price\n",
    "soup.find(\"div\", class_=\"prod-sale-price\").find(\"span\", class_=\"total-price\").text.strip()"
   ]
  },
  {
   "cell_type": "code",
   "execution_count": null,
   "id": "90d0a196-7453-4dc9-b1d5-da41ce498dbc",
   "metadata": {},
   "outputs": [],
   "source": []
  },
  {
   "cell_type": "code",
   "execution_count": null,
   "id": "87e3b59d-5c5c-4810-828e-1a986a45a2ed",
   "metadata": {},
   "outputs": [],
   "source": []
  }
 ],
 "metadata": {
  "kernelspec": {
   "display_name": "Python 3 (ipykernel)",
   "language": "python",
   "name": "python3"
  },
  "language_info": {
   "codemirror_mode": {
    "name": "ipython",
    "version": 3
   },
   "file_extension": ".py",
   "mimetype": "text/x-python",
   "name": "python",
   "nbconvert_exporter": "python",
   "pygments_lexer": "ipython3",
   "version": "3.8.10"
  }
 },
 "nbformat": 4,
 "nbformat_minor": 5
}
