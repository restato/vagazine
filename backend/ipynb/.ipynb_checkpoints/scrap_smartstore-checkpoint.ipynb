{
 "cells": [
  {
   "cell_type": "code",
   "execution_count": 5,
   "id": "5c5161a4-375a-4b3e-863e-48ebc35ebdc8",
   "metadata": {},
   "outputs": [],
   "source": [
    "url = \"https://smartstore.naver.com/priceclub/products/4814057455?NaPm=ct%3Dkxlu9dtk%7Cci%3Da92adcb517ad11a4604f64100199bc3be834d2df%7Ctr%3Dslsbrc%7Csn%3D165145%7Chk%3D9c8373b4d8cf0a590a01af52bdf6f82a1676f10a\""
   ]
  },
  {
   "cell_type": "code",
   "execution_count": 27,
   "id": "04ee4287-d5d5-4c59-80dc-3d0163301eeb",
   "metadata": {},
   "outputs": [],
   "source": [
    "url =\"https://brand.naver.com/spigen/products/5865637156\""
   ]
  },
  {
   "cell_type": "code",
   "execution_count": 33,
   "id": "4dadc43e-ac1c-4ee4-96f8-f351350f3a49",
   "metadata": {},
   "outputs": [],
   "source": [
    "url = \"https://smartstore.naver.com/doble/products/4601365609?n_media=27758&n_query=%EB%8F%84%EB%A7%88&n_rank=1&n_ad_group=grp-a001-02-000000022943801&n_ad=nad-a001-02-000000147939019&n_campaign_type=2&n_mall_id=jhind&n_mall_pid=4601365609&n_ad_group_type=2&NaPm=ct%3Dkxluf0r4%7Cci%3D0B40003o6arvOV4tGLla%7Ctr%3Dpla%7Chk%3D4f419694c8bafb565893a389d6020157d2abf275\""
   ]
  },
  {
   "cell_type": "code",
   "execution_count": 14,
   "id": "c3df4db5-849d-44d8-9129-c2d722517726",
   "metadata": {},
   "outputs": [],
   "source": [
    "url = \"https://smartstore.naver.com/doble/products/4601365609?n_media=27758&n_query=%EB%8F%84%EB%A7%88&n_rank=1&n_ad_group=grp-a001-02-000000022943801&n_ad=nad-a001-02-000000147939019&n_campaign_type=2&n_mall_id=jhind&n_mall_pid=4601365609&n_ad_group_type=2&NaPm=ct%3Dkxluf0r4%7Cci%3D0B40003o6arvOV4tGLla%7Ctr%3Dpla%7Chk%3D4f419694c8bafb565893a389d6020157d2abf275\""
   ]
  },
  {
   "cell_type": "code",
   "execution_count": 34,
   "id": "06fd7098-b2bf-41d3-96c1-bd6eeaa6cb78",
   "metadata": {},
   "outputs": [],
   "source": [
    "import requests\n",
    "from bs4 import BeautifulSoup\n",
    "import urllib.request\n",
    "\n",
    "headers = {\"User-Agent\":\"Mozilla/5.0 (Windows NT 10.0; Win64; x64) AppleWebKit/537.36 (KHTML, like Gecko) Chrome/90.0.4430.93 Safari/537.36\"}\n",
    "response = requests.get(url, headers=headers)\n",
    "response.raise_for_status()"
   ]
  },
  {
   "cell_type": "code",
   "execution_count": 35,
   "id": "faf69907-cfd0-493e-9628-b6bbe0fd9e6b",
   "metadata": {},
   "outputs": [],
   "source": [
    "soup = BeautifulSoup(response.content, 'html.parser')"
   ]
  },
  {
   "cell_type": "code",
   "execution_count": 36,
   "id": "db63d5c4-b2c5-42c4-98a6-2c9881d04055",
   "metadata": {},
   "outputs": [
    {
     "data": {
      "text/plain": [
       "'https://shop-phinf.pstatic.net/20211202_198/1638420644467Na04n_JPEG/39556479044726165_530466201.jpg?type=m510'"
      ]
     },
     "execution_count": 36,
     "metadata": {},
     "output_type": "execute_result"
    }
   ],
   "source": [
    "# image_url\n",
    "soup.find(\"div\", class_=\"_23RpOU6xpc\").find(\"img\").get(\"src\")"
   ]
  },
  {
   "cell_type": "code",
   "execution_count": 37,
   "id": "080dcd77-03dc-4d99-aa15-0f617cf48413",
   "metadata": {},
   "outputs": [
    {
     "data": {
      "text/plain": [
       "'[도블레] 칼집이 나지 않는 도마'"
      ]
     },
     "execution_count": 37,
     "metadata": {},
     "output_type": "execute_result"
    }
   ],
   "source": [
    "# title\n",
    "soup.find(\"div\", class_=\"CxNYUPvHfB\").find(\"h3\").text"
   ]
  },
  {
   "cell_type": "code",
   "execution_count": 41,
   "id": "224e0f39-0687-4645-9d4a-e62dbf121ab0",
   "metadata": {},
   "outputs": [
    {
     "data": {
      "text/plain": [
       "'15,800원'"
      ]
     },
     "execution_count": 41,
     "metadata": {},
     "output_type": "execute_result"
    }
   ],
   "source": [
    "# price\n",
    "soup.find_all(\"span\", class_=\"_1LY7DqCnwR\")[1].text + \"원\""
   ]
  },
  {
   "cell_type": "code",
   "execution_count": null,
   "id": "2a930d77-ad90-4e15-bb35-4ce72fc65cad",
   "metadata": {},
   "outputs": [],
   "source": []
  }
 ],
 "metadata": {
  "kernelspec": {
   "display_name": "Python 3 (ipykernel)",
   "language": "python",
   "name": "python3"
  },
  "language_info": {
   "codemirror_mode": {
    "name": "ipython",
    "version": 3
   },
   "file_extension": ".py",
   "mimetype": "text/x-python",
   "name": "python",
   "nbconvert_exporter": "python",
   "pygments_lexer": "ipython3",
   "version": "3.8.10"
  }
 },
 "nbformat": 4,
 "nbformat_minor": 5
}
