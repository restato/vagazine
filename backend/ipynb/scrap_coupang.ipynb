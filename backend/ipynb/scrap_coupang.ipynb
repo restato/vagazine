{
 "cells": [
  {
   "cell_type": "markdown",
   "id": "f759207d-510b-4336-bc74-388e61617518",
   "metadata": {},
   "source": [
    "### 쿠팡\n",
    "\n",
    "input | output\n",
    "--- | ----\n",
    "리워드 공유 URL | 상품명, 상품이미지, 가격  "
   ]
  },
  {
   "cell_type": "code",
   "execution_count": 8,
   "id": "5c5161a4-375a-4b3e-863e-48ebc35ebdc8",
   "metadata": {},
   "outputs": [],
   "source": [
    "url = 'https://link.coupang.com/re/CSHARESDP?lptag=CFM60714948&pageKey=5585680852&itemId=119183238&vendorItemId=3240941688'"
   ]
  },
  {
   "cell_type": "code",
   "execution_count": 14,
   "id": "06fd7098-b2bf-41d3-96c1-bd6eeaa6cb78",
   "metadata": {},
   "outputs": [],
   "source": [
    "import requests\n",
    "from bs4 import BeautifulSoup\n",
    "import urllib.request\n",
    "\n",
    "headers = {\"User-Agent\":\"Mozilla/5.0 (Windows NT 10.0; Win64; x64) AppleWebKit/537.36 (KHTML, like Gecko) Chrome/90.0.4430.93 Safari/537.36\"}\n",
    "response = requests.get(url, headers=headers)\n",
    "response.raise_for_status()"
   ]
  },
  {
   "cell_type": "code",
   "execution_count": 52,
   "id": "faf69907-cfd0-493e-9628-b6bbe0fd9e6b",
   "metadata": {},
   "outputs": [],
   "source": [
    "soup = BeautifulSoup(response.content, 'html.parser')"
   ]
  },
  {
   "cell_type": "code",
   "execution_count": 83,
   "id": "73ed66c1-1b37-40f8-b4ce-d602f828f6c7",
   "metadata": {},
   "outputs": [
    {
     "data": {
      "text/plain": [
       "'http://thumbnail9.coupangcdn.com/thumbnails/remote/230x230ex/image/retail/images/82584787055029-ac20e8ad-8771-4b8f-83a4-c45980a8ebdc.jpg'"
      ]
     },
     "execution_count": 83,
     "metadata": {},
     "output_type": "execute_result"
    }
   ],
   "source": [
    "# image_url\n",
    "f'http:{soup.find(\"img\", class_=\"prod-image__detail\").get(\"src\")}'"
   ]
  },
  {
   "cell_type": "code",
   "execution_count": 58,
   "id": "fd98e984-4755-4f7e-aaee-4c33e3f93ea2",
   "metadata": {},
   "outputs": [
    {
     "data": {
      "text/plain": [
       "'마더케이 신생아용 프리미엄 순면 건티슈'"
      ]
     },
     "execution_count": 58,
     "metadata": {},
     "output_type": "execute_result"
    }
   ],
   "source": [
    "# title\n",
    "soup.find(\"h2\", class_=\"prod-buy-header__title\").text"
   ]
  },
  {
   "cell_type": "code",
   "execution_count": 72,
   "id": "8b563761-1a4a-49e4-b5c4-0cbeea90251a",
   "metadata": {},
   "outputs": [
    {
     "data": {
      "text/plain": [
       "'80,000원'"
      ]
     },
     "execution_count": 72,
     "metadata": {},
     "output_type": "execute_result"
    }
   ],
   "source": [
    "# price\n",
    "soup.find(\"div\", class_=\"prod-origin-price\").find(\"span\", class_=\"origin-price\").text"
   ]
  }
 ],
 "metadata": {
  "kernelspec": {
   "display_name": "Python 3 (ipykernel)",
   "language": "python",
   "name": "python3"
  },
  "language_info": {
   "codemirror_mode": {
    "name": "ipython",
    "version": 3
   },
   "file_extension": ".py",
   "mimetype": "text/x-python",
   "name": "python",
   "nbconvert_exporter": "python",
   "pygments_lexer": "ipython3",
   "version": "3.8.10"
  }
 },
 "nbformat": 4,
 "nbformat_minor": 5
}
